{
 "cells": [
  {
   "cell_type": "code",
   "execution_count": 28,
   "metadata": {},
   "outputs": [
    {
     "name": "stdout",
     "output_type": "stream",
     "text": [
      "2716\n"
     ]
    }
   ],
   "source": [
    "puzzle_input = open(\"/Users/constantindory/Downloads/input_a0c_2.txt\", \"r\").read()\n",
    "\n",
    "max_red = 12 \n",
    "max_green = 13 \n",
    "max_blue = 14 \n",
    "\n",
    "max_dict = {}\n",
    "max_dict[\"blue\"] = 14\n",
    "max_dict[\"green\"] = 13\n",
    "max_dict[\"red\"] = 12\n",
    "\n",
    "games = puzzle_input.split(\"Game\")\n",
    "\n",
    "game_dict = {}\n",
    "\n",
    "tally = 0 \n",
    "for game in games:\n",
    "    if game != \"\":\n",
    "        game_info = game.split(\":\")\n",
    "        game_num = int(game_info[0])\n",
    "        game_results = game_info[1].split(\";\")\n",
    "        possible = True\n",
    "        for game_result in game_results:\n",
    "            colors = game_result.split(\",\")\n",
    "            for color in colors:\n",
    "                color_res = color.strip(\" \").strip(\"\\n\").split(\" \")\n",
    "                if int(color_res[0]) > max_dict[color_res[1]]:\n",
    "                    possible = False\n",
    "        if possible:\n",
    "            tally+= game_num\n",
    "\n",
    "print(tally)\n",
    "\n",
    "\n",
    "\n",
    "\n",
    "\n"
   ]
  }
 ],
 "metadata": {
  "kernelspec": {
   "display_name": "Python 3",
   "language": "python",
   "name": "python3"
  },
  "language_info": {
   "codemirror_mode": {
    "name": "ipython",
    "version": 3
   },
   "file_extension": ".py",
   "mimetype": "text/x-python",
   "name": "python",
   "nbconvert_exporter": "python",
   "pygments_lexer": "ipython3",
   "version": "3.9.6"
  }
 },
 "nbformat": 4,
 "nbformat_minor": 2
}
